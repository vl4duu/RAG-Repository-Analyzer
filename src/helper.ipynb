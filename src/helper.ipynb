{
 "cells": [
  {
   "metadata": {
    "ExecuteTime": {
     "end_time": "2025-02-23T05:37:20.088201Z",
     "start_time": "2025-02-23T05:37:20.061399Z"
    }
   },
   "cell_type": "code",
   "source": [
    "import numpy as np\n",
    "\n",
    "from src.chromaDB_setup import *\n",
    "from src.embedding import *\n",
    "from src.github_parser import *"
   ],
   "id": "b11597b757e91256",
   "outputs": [],
   "execution_count": 14
  },
  {
   "metadata": {
    "ExecuteTime": {
     "end_time": "2025-02-23T05:36:53.796973Z",
     "start_time": "2025-02-23T05:36:37.990451Z"
    }
   },
   "cell_type": "code",
   "source": "repo_files = get_repo_files(\"vl4duu/locomobile.co\")",
   "id": "c3ed21af6e11eb3",
   "outputs": [
    {
     "name": "stdout",
     "output_type": "stream",
     "text": [
      "Error processing file public/spinning-disc.gltf: unsupported encoding: none\n"
     ]
    }
   ],
   "execution_count": 8
  },
  {
   "metadata": {
    "ExecuteTime": {
     "end_time": "2025-02-23T05:37:25.234321Z",
     "start_time": "2025-02-23T05:37:24.483010Z"
    }
   },
   "cell_type": "code",
   "source": [
    "chunked_docs = chunk_repository_files(repo_files)\n",
    "\n",
    "textual_embeddings = np.array([embed_textual_metadata(doc[\"content\"]) for doc in chunked_docs['textual_chunks']])\n",
    "\n",
    "# Process code chunks with CodeBERT\n",
    "code_embeddings = np.array([generate_code_embedding(doc[\"content\"]) for doc in chunked_docs['code_chunks']])\n",
    "\n",
    "embedded_chunks = {\n",
    "    'textual_embeddings': np.array(textual_embeddings),\n",
    "    'code_embeddings': np.array(code_embeddings)\n",
    "}"
   ],
   "id": "8d4d4e8e8023e9b9",
   "outputs": [],
   "execution_count": 16
  },
  {
   "metadata": {
    "ExecuteTime": {
     "end_time": "2025-02-23T05:38:44.217079Z",
     "start_time": "2025-02-23T05:38:44.173794Z"
    }
   },
   "cell_type": "code",
   "source": "chrombaDb_collections = setup_chroma_collections(chunked_docs, embedded_chunks)",
   "id": "f7702110e4d89876",
   "outputs": [
    {
     "name": "stdout",
     "output_type": "stream",
     "text": [
      "Warning: Could not delete 'code_collection'. Error: Collection text_collection does not exist.\n",
      "\n"
     ]
    }
   ],
   "execution_count": 19
  },
  {
   "metadata": {
    "ExecuteTime": {
     "end_time": "2025-02-23T05:38:44.244826Z",
     "start_time": "2025-02-23T05:38:44.222185Z"
    }
   },
   "cell_type": "code",
   "source": [
    "def retrieve_relevant_chunks(query, collections, top_k=3):\n",
    "    textual_results = collections['textual_collection'].query(\n",
    "        query_embeddings=[embed_textual_metadata(query)],\n",
    "        n_results=top_k * 2,\n",
    "        include=['documents', 'metadatas', 'distances']\n",
    "    )\n",
    "\n",
    "    code_results = collections['code_collection'].query(\n",
    "        query_embeddings=generate_code_embedding(query).tolist(),\n",
    "        n_results=top_k * 2,\n",
    "        include=['documents', 'metadatas', 'distances']\n",
    "\n",
    "    )\n",
    "\n",
    "    def process_results(results):\n",
    "        if \"distances\" not in results or not results[\"distances\"]:\n",
    "            print(\"Warning: 'distances' key missing or empty in results. Returning empty list.\")\n",
    "            return []\n",
    "        # Calculate scores based on distances\n",
    "        distances = np.array(results[\"distances\"][0])\n",
    "        scores = 1 - distances  # Invert distance to get similarity score\n",
    "        return sorted(zip(scores, results[\"documents\"], results[\"metadatas\"]), reverse=True)[:top_k]\n",
    "\n",
    "    top_textual = process_results(textual_results)\n",
    "    top_code = process_results(code_results)\n",
    "\n",
    "    return {\"textual\": top_textual, \"code\": top_code}\n"
   ],
   "id": "90b0f86b825836b9",
   "outputs": [],
   "execution_count": 20
  },
  {
   "metadata": {
    "ExecuteTime": {
     "end_time": "2025-02-23T05:38:44.275164Z",
     "start_time": "2025-02-23T05:38:44.252762Z"
    }
   },
   "cell_type": "code",
   "source": [
    "def construct_rag_prompt(query, relevant_chunks):\n",
    "    \"\"\"Constructs a RAG-style prompt for the AI model.\"\"\"\n",
    "\n",
    "    prompt = f\"You are a repository analyser, use the provided chunks to answer any related questions about the repository:\\n\\nQuestion: {query}\\n\\nContext:\\n\"\n",
    "\n",
    "    for chunk_type, chunks in relevant_chunks.items():\n",
    "        if chunks:  # Check if there are any chunks for this type\n",
    "            prompt += f\"\\n--- {chunk_type.capitalize()} Chunks ---\\n\"\n",
    "            for score, text, metadata in chunks:\n",
    "                prompt += f\"Score: {score:.4f}\\n\"\n",
    "                prompt += f\"Content: {text}\\n\"\n",
    "                prompt += f\"Metadata: {metadata}\\n\"\n",
    "        else:\n",
    "            prompt += f\"\\n--- No {chunk_type} chunks found ---\\n\"\n",
    "\n",
    "    prompt += \"\\nAnswer:\"\n",
    "    return prompt\n"
   ],
   "id": "89b7cdff742e9e47",
   "outputs": [],
   "execution_count": 21
  },
  {
   "metadata": {
    "ExecuteTime": {
     "end_time": "2025-02-23T05:38:44.305086Z",
     "start_time": "2025-02-23T05:38:44.282367Z"
    }
   },
   "cell_type": "code",
   "source": [
    "import openai\n",
    "\n",
    "\n",
    "def query_ai_model(prompt):\n",
    "    response = openai.ChatCompletion.create(\n",
    "        model=\"gpt-3.5-turbo\",\n",
    "        messages=[\n",
    "            {\"role\": \"system\",\n",
    "             \"content\": \"You are a helpful assistant.  Answer the question using only the provided context.\"},\n",
    "            {\"role\": \"user\", \"content\": prompt},\n",
    "        ],\n",
    "        max_tokens=500,  # Adjust as needed\n",
    "        n=1,\n",
    "        stop=None,\n",
    "        temperature=0.1,  # Adjust as needed\n",
    "    )\n",
    "    return response.choices[0].message[\"content\"].strip()\n",
    "\n"
   ],
   "id": "549d12da2b0b5a8e",
   "outputs": [],
   "execution_count": 22
  },
  {
   "metadata": {
    "ExecuteTime": {
     "end_time": "2025-02-23T05:38:44.333190Z",
     "start_time": "2025-02-23T05:38:44.312399Z"
    }
   },
   "cell_type": "code",
   "source": [
    "def answer_question(query, collections):\n",
    "    \"\"\"Retrieves relevant chunks and queries the AI model.\"\"\"\n",
    "    relevant_chunks = retrieve_relevant_chunks(query, collections)\n",
    "    rag_prompt = construct_rag_prompt(query, relevant_chunks)\n",
    "    ai_answer = query_ai_model(rag_prompt)\n",
    "    return ai_answer\n"
   ],
   "id": "6170e0d206d028e",
   "outputs": [],
   "execution_count": 23
  },
  {
   "metadata": {
    "ExecuteTime": {
     "end_time": "2025-02-23T05:40:33.628388Z",
     "start_time": "2025-02-23T05:40:32.664899Z"
    }
   },
   "cell_type": "code",
   "source": [
    "query = \"What technologies does the repo use?\"\n",
    "answer = answer_question(query, chrombaDb_collections)\n",
    "print(f\"\\nAI Answer:\\n{answer}\")\n"
   ],
   "id": "3cc42851270b9044",
   "outputs": [
    {
     "name": "stderr",
     "output_type": "stream",
     "text": [
      "Number of requested results 6 is greater than number of elements in index 1, updating n_results = 1\n",
      "Number of requested results 6 is greater than number of elements in index 3, updating n_results = 3\n"
     ]
    },
    {
     "name": "stdout",
     "output_type": "stream",
     "text": [
      "\n",
      "AI Answer:\n",
      "The repository uses Vite, Vue.js, and Node.js technologies.\n"
     ]
    }
   ],
   "execution_count": 27
  },
  {
   "metadata": {
    "ExecuteTime": {
     "end_time": "2025-02-23T05:38:45.750418Z",
     "start_time": "2025-02-23T05:38:45.748453Z"
    }
   },
   "cell_type": "code",
   "source": "",
   "id": "9a4c8767fa6356e6",
   "outputs": [],
   "execution_count": null
  }
 ],
 "metadata": {
  "kernelspec": {
   "name": "python3",
   "language": "python",
   "display_name": "Python 3 (ipykernel)"
  }
 },
 "nbformat": 5,
 "nbformat_minor": 9
}
