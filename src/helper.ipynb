{
 "cells": [
  {
   "metadata": {
    "ExecuteTime": {
     "end_time": "2025-02-22T23:55:45.270150Z",
     "start_time": "2025-02-22T23:55:45.236490Z"
    }
   },
   "cell_type": "code",
   "source": [
    "import os\n",
    "\n",
    "get_ipython().run_line_magic('load_ext', 'autoreload')\n",
    "get_ipython().run_line_magic('autoreload', '2')"
   ],
   "id": "f04c0b24da72a815",
   "outputs": [
    {
     "name": "stdout",
     "output_type": "stream",
     "text": [
      "The autoreload extension is already loaded. To reload it, use:\n",
      "  %reload_ext autoreload\n"
     ]
    }
   ],
   "execution_count": 78
  },
  {
   "metadata": {
    "ExecuteTime": {
     "end_time": "2025-02-22T23:55:45.358813Z",
     "start_time": "2025-02-22T23:55:45.333502Z"
    }
   },
   "cell_type": "code",
   "source": [
    "from src.chromaDB_setup import *\n",
    "from src.github_parser import *\n",
    "from src.embedding import *\n",
    "import chromadb\n",
    "from chromadb.config import Settings\n",
    "import numpy as np"
   ],
   "id": "b11597b757e91256",
   "outputs": [],
   "execution_count": 79
  },
  {
   "metadata": {
    "ExecuteTime": {
     "end_time": "2025-02-22T23:55:45.389865Z",
     "start_time": "2025-02-22T23:55:45.367494Z"
    }
   },
   "cell_type": "code",
   "source": "# (\"khoj-ai/khoj\")",
   "id": "44a44ca01ed0531e",
   "outputs": [],
   "execution_count": 80
  },
  {
   "metadata": {
    "ExecuteTime": {
     "end_time": "2025-02-23T00:01:44.955764Z",
     "start_time": "2025-02-22T23:55:45.398012Z"
    }
   },
   "cell_type": "code",
   "source": "repo_files = get_repo_files(\"khoj-ai/khoj\")",
   "id": "c3ed21af6e11eb3",
   "outputs": [
    {
     "name": "stdout",
     "output_type": "stream",
     "text": [
      "Error processing file documentation/assets/img/dream_house.png: unsupported encoding: none\n",
      "Error processing file documentation/assets/img/example_search_model_admin_settings.png: unsupported encoding: none\n",
      "Error processing file documentation/assets/img/khoj-logo-sideways.svg: unsupported encoding: none\n",
      "Error processing file documentation/assets/img/plants_i_got.png: unsupported encoding: none\n",
      "Error processing file documentation/assets/img/quadratic_equation_khoj_web.gif: unsupported encoding: none\n",
      "Error processing file documentation/assets/img/using_khoj_for_studying.gif: unsupported encoding: none\n",
      "Error processing file src/interface/desktop/assets/icons/khoj-logo-sideways.svg: unsupported encoding: none\n",
      "Error processing file tests/data/images/nasdaq.jpg: unsupported encoding: none\n"
     ]
    }
   ],
   "execution_count": 81
  },
  {
   "metadata": {
    "ExecuteTime": {
     "end_time": "2025-02-23T00:03:36.620367Z",
     "start_time": "2025-02-23T00:01:44.983289Z"
    }
   },
   "cell_type": "code",
   "source": [
    "chunked_docs = chunk_repository_files(repo_files)\n",
    "\n",
    "textual_embeddings = np.array([embed_textual_metadata(doc[\"content\"]) for doc in chunked_docs['textual_chunks']])\n",
    "\n",
    "# Process code chunks with CodeBERT\n",
    "code_embeddings = np.array([generate_code_embedding(doc[\"content\"]) for doc in chunked_docs['code_chunks']])\n",
    "\n",
    "embedded_chunks = {\n",
    "    'textual_embeddings': np.array(textual_embeddings),\n",
    "    'code_embeddings': np.array(code_embeddings)\n",
    "}"
   ],
   "id": "8d4d4e8e8023e9b9",
   "outputs": [],
   "execution_count": 82
  },
  {
   "metadata": {},
   "cell_type": "code",
   "source": "chrombaDb_collections = setup_chroma_collections(chunked_docs, embedded_chunks)",
   "id": "f7702110e4d89876",
   "outputs": [],
   "execution_count": null
  },
  {
   "metadata": {
    "ExecuteTime": {
     "end_time": "2025-02-23T00:05:15.193422Z",
     "start_time": "2025-02-23T00:05:14.806988Z"
    }
   },
   "cell_type": "code",
   "source": [
    "def retrieve_relevant_chunks(query, collections, top_k=3):\n",
    "    textual_results = collections['textual_collection'].query(\n",
    "        query_embeddings=[embed_textual_metadata(query)],\n",
    "        n_results=top_k * 2,\n",
    "        include=['documents', 'metadatas', 'distances']\n",
    "    )\n",
    "\n",
    "    code_results = collections['code_collection'].query(\n",
    "        query_embeddings=generate_code_embedding(query).tolist(),\n",
    "        n_results=top_k * 2,\n",
    "        include=['documents', 'metadatas', 'distances']\n",
    "\n",
    "    )\n",
    "\n",
    "    def process_results(results):\n",
    "\n",
    "        if \"distances\" not in results or not results[\"distances\"]:\n",
    "            print(\"Warning: 'distances' key missing or empty in results. Returning empty list.\")\n",
    "            return []\n",
    "        # Calculate scores based on distances\n",
    "        distances = np.array(results[\"distances\"][0])\n",
    "        scores = 1 - distances  # Invert distance to get similarity score\n",
    "        return sorted(zip(scores, results[\"documents\"], results[\"metadatas\"]), reverse=True)[:top_k]\n",
    "\n",
    "    top_textual = process_results(textual_results)\n",
    "    top_code = process_results(code_results)\n",
    "\n",
    "    return {\"textual\": top_textual, \"code\": top_code}\n",
    "\n",
    "query = \"What is this repo supposed to do?\"\n",
    "retrieve_relevant_chunks(query, chrombaDb_collections)\n"
   ],
   "id": "90b0f86b825836b9",
   "outputs": [
    {
     "data": {
      "text/plain": [
       "{'textual': [(np.float64(0.5679551064968109),\n",
       "   [\"# Github integration :::warning[Unmaintained] The Github integration is not maintained. We are considering deprecating it. It doesn't seem used by many folks and its cumbersome for us to maintain. ::: The Github integration allows you to index as many repositories as you want. It's currently default configured to index all Markdown/Org/Text files in each repository. For large repositories, this takes a fairly long time, but it works well for smaller projects. # Configure your settings 1. Go to [https://app.khoj.dev/settings](https://app.khoj.dev/settings) and enter in settings for the data sources you want to index. You'll have to specify the file paths. ## Use the Github plugin 1. Generate a [classic PAT (personal access token)](https://docs.github.com/en/authentication/keeping-your-account-and-data-secure/managing-your-personal-access-tokens) from [Github](https://github.com/settings/tokens) with `repo` and `admin:org` scopes at least. 2. Navigate to [https://app.khoj.dev/settings#github](https://app.khoj.dev/settings/content/github) to configure your Github settings. Enter in your PAT, along with details for each repository you want to index. 3. Click `Save`. Go back to the settings page and click `Configure`. 4. Go to [https://app.khoj.dev/](https://app.khoj.dev/) and start searching!\",\n",
       "    '# Website This website is built using [Docusaurus](https://docusaurus.io/), a modern static website generator. ### Installation ``` $ yarn ``` ### Local Development ``` $ yarn start ``` This command starts a local development server and opens up a browser window. Most changes are reflected live without having to restart the server. ### Build ``` $ yarn build ``` This command generates static content into the `build` directory and can be served using any static contents hosting service. ### Deployment Using SSH: ``` $ USE_SSH=true yarn deploy ``` Not using SSH: ``` $ GIT_USER=<Your GitHub username> yarn deploy ``` If you are using GitHub pages for hosting, this command is a convenient way to build the website and push to the `gh-pages` branch.',\n",
       "    '--- name: Bug Report about: Create a bug to help fix something that might not be working correctly title: \"[FIX]\" labels: fix assignees: \\'\\' --- ## Describe the bug A clear and concise description of what the bug is. Please include what you were expecting to happen vs. what actually happened. ## To Reproduce Steps to reproduce the behavior: ## Screenshots If applicable, add screenshots to help explain your problem. ## Platform - Server: - [ ] Cloud-Hosted (https://app.khoj.dev) - [ ] Self-Hosted Docker - [ ] Self-Hosted Python package - [ ] Self-Hosted source code - Client: - [ ] Obsidian - [ ] Emacs - [ ] Desktop app - [ ] Web browser - [ ] WhatsApp - OS: - [ ] Windows - [ ] macOS - [ ] Linux - [ ] Android - [ ] iOS ### If self-hosted - Server Version [e.g. 1.0.1]: ## Additional context Add any other context about the problem here.',\n",
       "    '--- sidebar_position: 1 --- # Desktop > Upload your knowledge base to Khoj and chat with your whole corpus ## Companion App Share your files, folders with Khoj using the app. Khoj will keep these files in sync to provide contextual responses when you search or chat. ## Setup :::info[Self Hosting] If you are self-hosting the Khoj server, update the *Settings* page on the Khoj Desktop app to: - Set the `Khoj URL` field to your Khoj server URL. By default, use `http://127.0.0.1:42110`. - Do not set the `Khoj API Key` field if your Khoj server runs in anonymous mode. For example, `khoj --anonymous-mode` ::: 1. Install the [Khoj Desktop app](https://khoj.dev/downloads) for your OS 2. Generate an API key on the [Khoj Web App](https://app.khoj.dev/settings#clients) 3. Set your Khoj API Key on the *Settings* page of the Khoj Desktop app 4. [Optional] Add any files, folders you\\'d like Khoj to be aware of on the *Settings* page and Click *Save*. These files and folders will be automatically kept in sync for you # Main App You can also install the Khoj application on your desktop as a progressive web app. 1. Open the [Khoj Web App](https://app.khoj.dev) in Chrome. 2. Click on the install button in the address bar to install the app. You must be logged into your Chrome browser for this to work. ![progressive web app install icon](/img/pwa_install_desktop.png) Alternatively, you can also install using this route: 1. Open the three-dot menu in the top right corner of the browser. 2. Go to \\'Cast, Save, and Share\\' option. 3. Click on the \"Open in Khoj\" option. ![progressive web app install route](/img/chrome_pwa_alt.png)',\n",
       "    '6ee1711cf4f745dafc80c1cc13c3025342a0f5da',\n",
       "    \"--- sidebar_position: 4 --- # Credits Many Open Source projects are used to power Khoj. Here's a few of them: - [Llama.cpp](https://github.com/ggerganov/llama.cpp) to chat with local LLM - [SentenceTransformer](https://www.sbert.net/examples/applications/retrieve_rerank/README.html) for Text Search - [HuggingFace](https://huggingface.co/) for hosting open-source chat and search models - Charles Cave for [OrgNode Parser](http://members.optusnet.com.au/~charles57/GTD/orgnode.html) - [Org.js](https://mooz.github.io/org-js/) to render Org-mode results on the Web interface - [Markdown-it](https://github.com/markdown-it/markdown-it) to render Markdown results on the Web interface - [Katex](https://katex.org/) to render math\"],\n",
       "   [{'content_type': 'text',\n",
       "     'file_name': 'documentation/docs/data-sources/github_integration.md'},\n",
       "    {'content_type': 'text', 'file_name': 'documentation/README.md'},\n",
       "    {'content_type': 'text',\n",
       "     'file_name': '.github/ISSUE_TEMPLATE/bug-report.md'},\n",
       "    {'content_type': 'text',\n",
       "     'file_name': 'documentation/docs/clients/desktop.md'},\n",
       "    {'content_type': 'text',\n",
       "     'file_name': 'src/interface/android/manifest-checksum.txt'},\n",
       "    {'content_type': 'text',\n",
       "     'file_name': 'documentation/docs/miscellaneous/credits.md'}])],\n",
       " 'code': [(np.float64(-26.37868881225586),\n",
       "   ['from django.test import TestCase # Create your tests here.',\n",
       "    'from django.db import migrations from pgvector.django import VectorExtension class Migration(migrations.Migration): dependencies = [ (\"database\", \"0002_googleuser\"), ] operations = [VectorExtension()]',\n",
       "    '# Generated by Django 4.2.5 on 2023-11-11 06:15 from django.db import migrations, models class Migration(migrations.Migration): dependencies = [ (\"database\", \"0015_alter_subscription_user\"), ] operations = [ migrations.AlterField( model_name=\"subscription\", name=\"renewal_date\", field=models.DateTimeField(blank=True, default=None, null=True), ), ]',\n",
       "    '# Generated by Django 4.2.11 on 2024-07-02 12:20 from typing import List from django.db import migrations class Migration(migrations.Migration): dependencies = [ (\"database\", \"0049_texttoimagemodelconfig_api_key_and_more\"), (\"database\", \"0050_alter_processlock_name\"), ] operations: List[str] = []',\n",
       "    '# Generated by Django 4.2.5 on 2023-11-09 08:11 from django.db import migrations, models class Migration(migrations.Migration): dependencies = [ (\"database\", \"0013_subscription\"), ] operations = [ migrations.AlterField( model_name=\"googleuser\", name=\"picture\", field=models.CharField(default=None, max_length=200, null=True), ), ]',\n",
       "    '# Generated by Django 5.0.9 on 2024-11-12 09:50 from django.db import migrations, models class Migration(migrations.Migration): dependencies = [ (\"database\", \"0073_delete_usersearchmodelconfig\"), ] operations = [ migrations.AlterField( model_name=\"conversation\", name=\"title\", field=models.CharField(blank=True, default=None, max_length=500, null=True), ), ]'],\n",
       "   [{'content_type': 'code', 'file_name': 'src/khoj/database/tests.py'},\n",
       "    {'content_type': 'code',\n",
       "     'file_name': 'src/khoj/database/migrations/0003_vector_extension.py'},\n",
       "    {'content_type': 'code',\n",
       "     'file_name': 'src/khoj/database/migrations/0016_alter_subscription_renewal_date.py'},\n",
       "    {'content_type': 'code',\n",
       "     'file_name': 'src/khoj/database/migrations/0051_merge_20240702_1220.py'},\n",
       "    {'content_type': 'code',\n",
       "     'file_name': 'src/khoj/database/migrations/0014_alter_googleuser_picture.py'},\n",
       "    {'content_type': 'code',\n",
       "     'file_name': 'src/khoj/database/migrations/0074_alter_conversation_title.py'}])]}"
      ]
     },
     "execution_count": 91,
     "metadata": {},
     "output_type": "execute_result"
    }
   ],
   "execution_count": 91
  },
  {
   "metadata": {},
   "cell_type": "code",
   "outputs": [],
   "execution_count": null,
   "source": "",
   "id": "89b7cdff742e9e47"
  }
 ],
 "metadata": {
  "kernelspec": {
   "name": "python3",
   "language": "python",
   "display_name": "Python 3 (ipykernel)"
  }
 },
 "nbformat": 5,
 "nbformat_minor": 9
}
