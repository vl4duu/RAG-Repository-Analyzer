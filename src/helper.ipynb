{
 "cells": [
  {
   "metadata": {
    "ExecuteTime": {
     "end_time": "2025-02-16T15:41:17.488776Z",
     "start_time": "2025-02-16T15:41:17.457376Z"
    }
   },
   "cell_type": "code",
   "source": [
    "import os\n",
    "\n",
    "get_ipython().run_line_magic('load_ext', 'autoreload')\n",
    "get_ipython().run_line_magic('autoreload', '2')"
   ],
   "id": "f04c0b24da72a815",
   "outputs": [
    {
     "name": "stdout",
     "output_type": "stream",
     "text": [
      "The autoreload extension is already loaded. To reload it, use:\n",
      "  %reload_ext autoreload\n"
     ]
    }
   ],
   "execution_count": 5
  },
  {
   "metadata": {
    "ExecuteTime": {
     "end_time": "2025-02-16T15:41:17.579054Z",
     "start_time": "2025-02-16T15:41:17.553270Z"
    }
   },
   "cell_type": "code",
   "source": [
    "from src.chromaDB_setup import *\n",
    "from src.github_parser import *\n",
    "from src.embedding import *\n",
    "import chromadb\n",
    "from chromadb.config import Settings\n"
   ],
   "id": "d4a900c8f1d2d03",
   "outputs": [],
   "execution_count": 6
  },
  {
   "metadata": {
    "ExecuteTime": {
     "end_time": "2025-02-16T15:41:17.852652Z",
     "start_time": "2025-02-16T15:41:17.586352Z"
    }
   },
   "cell_type": "code",
   "source": [
    "repo = g.get_repo(\"vl4duu/vlad-mutilica.space\")\n",
    "# (\"khoj-ai/khoj\")"
   ],
   "id": "627e0cad90c56af3",
   "outputs": [],
   "execution_count": 7
  },
  {
   "metadata": {
    "ExecuteTime": {
     "end_time": "2025-02-16T15:41:26.834670Z",
     "start_time": "2025-02-16T15:41:17.860281Z"
    }
   },
   "cell_type": "code",
   "source": "repo_files = get_repo_files(\"vl4duu/vlad-mutilica.space\")",
   "id": "c3ed21af6e11eb3",
   "outputs": [],
   "execution_count": 8
  },
  {
   "metadata": {
    "ExecuteTime": {
     "end_time": "2025-02-16T15:41:28.428103Z",
     "start_time": "2025-02-16T15:41:26.850864Z"
    }
   },
   "cell_type": "code",
   "source": [
    "textual_chunks, code_chunks = chunk_repository_files(repo_files)\n",
    "\n",
    "# Process textual chunks with ada-002\n",
    "for doc in textual_chunks:\n",
    "    textual_embedding = embed_textual_metadata(doc[\"content\"])\n",
    "\n",
    "# Process code chunks with CodeBERT\n",
    "for doc in code_chunks:\n",
    "    code_embedding = generate_code_embedding(doc[\"content\"])\n",
    "\n"
   ],
   "id": "ce238985f1497768",
   "outputs": [],
   "execution_count": 9
  },
  {
   "metadata": {
    "ExecuteTime": {
     "end_time": "2025-02-16T15:41:28.557856Z",
     "start_time": "2025-02-16T15:41:28.437045Z"
    }
   },
   "cell_type": "code",
   "source": [
    "# Initialize the ChromaDB client with the new format\n",
    "client = chromadb.Client(\n",
    "    Settings(\n",
    "        persist_directory=\"./chromaDB/dir1\"  # Path for persistence\n",
    "    )\n",
    ")"
   ],
   "id": "12961a3b5cd7812c",
   "outputs": [],
   "execution_count": 10
  },
  {
   "metadata": {
    "ExecuteTime": {
     "end_time": "2025-02-16T15:41:28.594618Z",
     "start_time": "2025-02-16T15:41:28.566055Z"
    }
   },
   "cell_type": "code",
   "source": [
    "# Create a collection for your repository data\n",
    "collection = client.get_or_create_collection(name=\"repo_assistant\")"
   ],
   "id": "e1b0216a63a825db",
   "outputs": [],
   "execution_count": 11
  },
  {
   "metadata": {
    "ExecuteTime": {
     "end_time": "2025-02-16T15:41:28.650822Z",
     "start_time": "2025-02-16T15:41:28.602639Z"
    }
   },
   "cell_type": "code",
   "source": [
    "# Add to ChromaDB\n",
    "for idx, doc in enumerate(chunked_docs):\n",
    "    collection.add(\n",
    "        documents=[doc[\"content\"]],\n",
    "        metadatas=[{\"file_name\": doc[\"file_name\"]}],\n",
    "        ids=[f\"{doc['file_name']}_{idx}\"],\n",
    "        embeddings=[embeddings[idx].tolist()]\n",
    "    )"
   ],
   "id": "45604a0cbe4cfa6e",
   "outputs": [
    {
     "ename": "NameError",
     "evalue": "name 'chunked_docs' is not defined",
     "output_type": "error",
     "traceback": [
      "\u001B[0;31m---------------------------------------------------------------------------\u001B[0m",
      "\u001B[0;31mNameError\u001B[0m                                 Traceback (most recent call last)",
      "Cell \u001B[0;32mIn[12], line 2\u001B[0m\n\u001B[1;32m      1\u001B[0m \u001B[38;5;66;03m# Add to ChromaDB\u001B[39;00m\n\u001B[0;32m----> 2\u001B[0m \u001B[38;5;28;01mfor\u001B[39;00m idx, doc \u001B[38;5;129;01min\u001B[39;00m \u001B[38;5;28menumerate\u001B[39m(\u001B[43mchunked_docs\u001B[49m):\n\u001B[1;32m      3\u001B[0m     collection\u001B[38;5;241m.\u001B[39madd(\n\u001B[1;32m      4\u001B[0m         documents\u001B[38;5;241m=\u001B[39m[doc[\u001B[38;5;124m\"\u001B[39m\u001B[38;5;124mcontent\u001B[39m\u001B[38;5;124m\"\u001B[39m]],\n\u001B[1;32m      5\u001B[0m         metadatas\u001B[38;5;241m=\u001B[39m[{\u001B[38;5;124m\"\u001B[39m\u001B[38;5;124mfile_name\u001B[39m\u001B[38;5;124m\"\u001B[39m: doc[\u001B[38;5;124m\"\u001B[39m\u001B[38;5;124mfile_name\u001B[39m\u001B[38;5;124m\"\u001B[39m]}],\n\u001B[1;32m      6\u001B[0m         ids\u001B[38;5;241m=\u001B[39m[\u001B[38;5;124mf\u001B[39m\u001B[38;5;124m\"\u001B[39m\u001B[38;5;132;01m{\u001B[39;00mdoc[\u001B[38;5;124m'\u001B[39m\u001B[38;5;124mfile_name\u001B[39m\u001B[38;5;124m'\u001B[39m]\u001B[38;5;132;01m}\u001B[39;00m\u001B[38;5;124m_\u001B[39m\u001B[38;5;132;01m{\u001B[39;00midx\u001B[38;5;132;01m}\u001B[39;00m\u001B[38;5;124m\"\u001B[39m],\n\u001B[1;32m      7\u001B[0m         embeddings\u001B[38;5;241m=\u001B[39m[embeddings[idx]\u001B[38;5;241m.\u001B[39mtolist()]\n\u001B[1;32m      8\u001B[0m     )\n",
      "\u001B[0;31mNameError\u001B[0m: name 'chunked_docs' is not defined"
     ]
    }
   ],
   "execution_count": 12
  },
  {
   "metadata": {},
   "cell_type": "code",
   "outputs": [],
   "execution_count": null,
   "source": [
    "def retrieve_relevant_chunks(query, top_k=3):\n",
    "    # Generate query embedding\n",
    "    query_embedding = embed_textual_metadata(query).tolist()\n",
    "\n",
    "    # Query ChromaDB\n",
    "    results = collection.query(\n",
    "        query_embeddings=[query_embedding],\n",
    "        n_results=top_k\n",
    "    )\n",
    "\n",
    "    # Return relevant documents and metadata\n",
    "    return results[\"documents\"], results[\"metadatas\"]"
   ],
   "id": "3a81a35c8875b963"
  },
  {
   "metadata": {},
   "cell_type": "code",
   "outputs": [],
   "execution_count": null,
   "source": [
    "query = \"What is this repo supposed to do?\"\n",
    "retrieve_relevant_chunks(query)"
   ],
   "id": "294a7c071324825e"
  }
 ],
 "metadata": {
  "kernelspec": {
   "name": "python3",
   "language": "python",
   "display_name": "Python 3 (ipykernel)"
  }
 },
 "nbformat": 5,
 "nbformat_minor": 9
}
